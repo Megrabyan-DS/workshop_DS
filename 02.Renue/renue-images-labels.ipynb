{
 "cells": [
  {
   "cell_type": "markdown",
   "metadata": {},
   "source": [
    "# Renue\n",
    "## Детекция отходов для переработки."
   ]
  },
  {
   "cell_type": "markdown",
   "metadata": {},
   "source": [
    "Renue – IT-компания из Екатеринбурга, разрабатывает на заказ высоконагруженные и отказоустойчивые решения для крупных российских заказчиков, для бизнеса и государства. В мире, где переработка отходов играет важную роль в защите окружающей среды, сортировка мусора является ключевым элементом в повышении эффективности перерабатывающих заводов. Это соревнование предлагает возможность разработать модель, способную автоматически определять различные типы мусора на сортировочном конвейере мусороперерабатывающего завода.\n",
    "\n",
    "В качестве метрики качества используется взвешенный по классам mAP.\n",
    "\n",
    "Проект выполняется на основе Kaggle. Для оптимизации использования ресурсов уместно разбить задачи на несколько тетрадей - подготовка данных, обучение, оценка тестовой выборки.\n",
    "\n",
    "**План:**\n",
    "\n",
    "1. Загрузить датасет.\n",
    "2. Переформатировать изображения и аннотацию под YOLO.\n",
    "3. Разработать функцию для кросс валидации.\n",
    "4. Написать .yaml файл.\n",
    "6. Оценить различные подходы к обучению на небольшом количестве эпох.\n",
    "5. Обучить модель на основе YOLO11.\n",
    "6. Провести оценку тестовой выборки с учётом необходимой памяти и результатов экспериментов."
   ]
  },
  {
   "cell_type": "markdown",
   "metadata": {},
   "source": [
    "# Тетрадь организации файлов для YOLO"
   ]
  },
  {
   "cell_type": "code",
   "execution_count": 1,
   "metadata": {
    "execution": {
     "iopub.execute_input": "2024-12-06T19:41:44.356413Z",
     "iopub.status.busy": "2024-12-06T19:41:44.355921Z",
     "iopub.status.idle": "2024-12-06T19:41:45.593853Z",
     "shell.execute_reply": "2024-12-06T19:41:45.592304Z",
     "shell.execute_reply.started": "2024-12-06T19:41:44.356366Z"
    },
    "trusted": true
   },
   "outputs": [],
   "source": [
    "import pandas as pd\n",
    "from os.path  import join\n",
    "import os\n",
    "from shutil import rmtree, copyfile"
   ]
  },
  {
   "cell_type": "code",
   "execution_count": 2,
   "metadata": {
    "execution": {
     "iopub.execute_input": "2024-12-06T19:41:45.597263Z",
     "iopub.status.busy": "2024-12-06T19:41:45.596302Z",
     "iopub.status.idle": "2024-12-06T19:41:45.602775Z",
     "shell.execute_reply": "2024-12-06T19:41:45.601537Z",
     "shell.execute_reply.started": "2024-12-06T19:41:45.597209Z"
    },
    "trusted": true
   },
   "outputs": [],
   "source": [
    "RANDOM = 20241203\n",
    "IMAGE_H = 1486\n",
    "IMAGE_W = 2048"
   ]
  },
  {
   "cell_type": "markdown",
   "metadata": {
    "execution": {
     "iopub.execute_input": "2024-11-30T13:50:24.336423Z",
     "iopub.status.busy": "2024-11-30T13:50:24.335921Z",
     "iopub.status.idle": "2024-11-30T13:50:24.342186Z",
     "shell.execute_reply": "2024-11-30T13:50:24.340675Z",
     "shell.execute_reply.started": "2024-11-30T13:50:24.336382Z"
    }
   },
   "source": [
    "### Class"
   ]
  },
  {
   "cell_type": "code",
   "execution_count": 3,
   "metadata": {
    "execution": {
     "iopub.execute_input": "2024-12-06T19:41:45.604317Z",
     "iopub.status.busy": "2024-12-06T19:41:45.603944Z",
     "iopub.status.idle": "2024-12-06T19:41:45.621489Z",
     "shell.execute_reply": "2024-12-06T19:41:45.620360Z",
     "shell.execute_reply.started": "2024-12-06T19:41:45.604261Z"
    },
    "trusted": true
   },
   "outputs": [
    {
     "data": {
      "text/plain": [
       "{1: 'PET (transparent) (green)',\n",
       " 2: 'PET (transparent) (brown)',\n",
       " 3: 'PET (transparent) (blue)',\n",
       " 4: 'PET (transparent)',\n",
       " 5: 'PET (transparent) (dark blue)',\n",
       " 6: 'PET (black)',\n",
       " 7: 'PET (white)',\n",
       " 8: 'PET (sticker)',\n",
       " 9: 'PET (flacon)',\n",
       " 10: 'PET (household chemicals)',\n",
       " 11: 'PND (household chemicals)',\n",
       " 12: 'PND packet',\n",
       " 13: 'Other plastic',\n",
       " 14: 'Other plastic (transparent)',\n",
       " 15: 'Not plastic'}"
      ]
     },
     "execution_count": 3,
     "metadata": {},
     "output_type": "execute_result"
    }
   ],
   "source": [
    "trash_dict = {\n",
    "    1: \"PET (transparent) (green)\",\n",
    "    2: \"PET (transparent) (brown)\",\n",
    "    3: \"PET (transparent) (blue)\",\n",
    "    4: \"PET (transparent)\",\n",
    "    5: \"PET (transparent) (dark blue)\",\n",
    "    6: \"PET (black)\",\n",
    "    7: \"PET (white)\",\n",
    "    8: \"PET (sticker)\",\n",
    "    9: \"PET (flacon)\",\n",
    "    10: \"PET (household chemicals)\",\n",
    "    11: \"PND (household chemicals)\",\n",
    "    12: \"PND packet\",\n",
    "    13: \"Other plastic\",\n",
    "    14: \"Other plastic (transparent)\",\n",
    "    15: \"Not plastic\"\n",
    "}\n",
    "\n",
    "with open ('trash_dict', 'w') as file:\n",
    "    file.write(str(trash_dict))\n",
    "\n",
    "trash_dict"
   ]
  },
  {
   "cell_type": "code",
   "execution_count": 4,
   "metadata": {
    "execution": {
     "iopub.execute_input": "2024-12-06T19:41:45.624691Z",
     "iopub.status.busy": "2024-12-06T19:41:45.624211Z",
     "iopub.status.idle": "2024-12-06T19:41:45.637325Z",
     "shell.execute_reply": "2024-12-06T19:41:45.635856Z",
     "shell.execute_reply.started": "2024-12-06T19:41:45.624642Z"
    },
    "trusted": true
   },
   "outputs": [
    {
     "data": {
      "text/plain": [
       "{0: 'PET (transparent) (green)',\n",
       " 1: 'PET (transparent) (brown)',\n",
       " 2: 'PET (transparent) (blue)',\n",
       " 3: 'PET (transparent)',\n",
       " 4: 'PET (transparent) (dark blue)',\n",
       " 5: 'PET (black)',\n",
       " 6: 'PET (white)',\n",
       " 7: 'PET (sticker)',\n",
       " 8: 'PET (flacon)',\n",
       " 9: 'PET (household chemicals)',\n",
       " 10: 'PND (household chemicals)',\n",
       " 11: 'PND packet',\n",
       " 12: 'Other plastic',\n",
       " 13: 'Other plastic (transparent)',\n",
       " 14: 'Not plastic'}"
      ]
     },
     "execution_count": 4,
     "metadata": {},
     "output_type": "execute_result"
    }
   ],
   "source": [
    "trash_dict_yolo = dict(zip([x -1 for x in trash_dict.keys()], trash_dict.values()))\n",
    "\n",
    "with open ('trash_dict_yolo', 'w') as file:\n",
    "    file.write(str(trash_dict_yolo))\n",
    "\n",
    "trash_dict_yolo"
   ]
  },
  {
   "cell_type": "markdown",
   "metadata": {},
   "source": [
    "**Выводы:**\n",
    "\n",
    "YOLO использует стандартный для python подход к нумерации категорий 0-14, вместо 1-15 из датасета. Сохранил оба варианта для дальнейшего использования."
   ]
  },
  {
   "cell_type": "markdown",
   "metadata": {
    "execution": {
     "iopub.execute_input": "2024-11-30T13:42:29.797946Z",
     "iopub.status.busy": "2024-11-30T13:42:29.797438Z",
     "iopub.status.idle": "2024-11-30T13:42:29.803452Z",
     "shell.execute_reply": "2024-11-30T13:42:29.802211Z",
     "shell.execute_reply.started": "2024-11-30T13:42:29.797903Z"
    }
   },
   "source": [
    "### Train"
   ]
  },
  {
   "cell_type": "code",
   "execution_count": 5,
   "metadata": {
    "execution": {
     "iopub.execute_input": "2024-12-06T19:41:45.639333Z",
     "iopub.status.busy": "2024-12-06T19:41:45.638921Z",
     "iopub.status.idle": "2024-12-06T19:41:45.742650Z",
     "shell.execute_reply": "2024-12-06T19:41:45.741453Z",
     "shell.execute_reply.started": "2024-12-06T19:41:45.639288Z"
    },
    "trusted": true
   },
   "outputs": [
    {
     "data": {
      "text/html": [
       "<div>\n",
       "<style scoped>\n",
       "    .dataframe tbody tr th:only-of-type {\n",
       "        vertical-align: middle;\n",
       "    }\n",
       "\n",
       "    .dataframe tbody tr th {\n",
       "        vertical-align: top;\n",
       "    }\n",
       "\n",
       "    .dataframe thead th {\n",
       "        text-align: right;\n",
       "    }\n",
       "</style>\n",
       "<table border=\"1\" class=\"dataframe\">\n",
       "  <thead>\n",
       "    <tr style=\"text-align: right;\">\n",
       "      <th></th>\n",
       "      <th>file_name</th>\n",
       "      <th>bbox</th>\n",
       "      <th>category_id</th>\n",
       "    </tr>\n",
       "  </thead>\n",
       "  <tbody>\n",
       "    <tr>\n",
       "      <th>0</th>\n",
       "      <td>000001.jpg</td>\n",
       "      <td>[840.0, 0.0, 176.0, 124.0]</td>\n",
       "      <td>4.0</td>\n",
       "    </tr>\n",
       "    <tr>\n",
       "      <th>1</th>\n",
       "      <td>000001.jpg</td>\n",
       "      <td>[612.0, 306.0, 383.0, 397.0]</td>\n",
       "      <td>2.0</td>\n",
       "    </tr>\n",
       "    <tr>\n",
       "      <th>2</th>\n",
       "      <td>000001.jpg</td>\n",
       "      <td>[990.92, 551.0, 105.00000000000011, 186.0]</td>\n",
       "      <td>4.0</td>\n",
       "    </tr>\n",
       "    <tr>\n",
       "      <th>3</th>\n",
       "      <td>000002.jpg</td>\n",
       "      <td>[1000.0, 614.0, 98.0, 178.0]</td>\n",
       "      <td>4.0</td>\n",
       "    </tr>\n",
       "    <tr>\n",
       "      <th>4</th>\n",
       "      <td>000002.jpg</td>\n",
       "      <td>[605.0, 358.0, 402.0, 409.0]</td>\n",
       "      <td>2.0</td>\n",
       "    </tr>\n",
       "    <tr>\n",
       "      <th>...</th>\n",
       "      <td>...</td>\n",
       "      <td>...</td>\n",
       "      <td>...</td>\n",
       "    </tr>\n",
       "    <tr>\n",
       "      <th>32260</th>\n",
       "      <td>008999.jpg</td>\n",
       "      <td>[1220.0, 0.0, 167.0, 236.0]</td>\n",
       "      <td>2.0</td>\n",
       "    </tr>\n",
       "    <tr>\n",
       "      <th>32261</th>\n",
       "      <td>009000.jpg</td>\n",
       "      <td>[1218.0, 40.0, 169.0, 254.0]</td>\n",
       "      <td>2.0</td>\n",
       "    </tr>\n",
       "    <tr>\n",
       "      <th>32262</th>\n",
       "      <td>009000.jpg</td>\n",
       "      <td>[320.0, 631.0, 527.0, 218.0]</td>\n",
       "      <td>1.0</td>\n",
       "    </tr>\n",
       "    <tr>\n",
       "      <th>32263</th>\n",
       "      <td>009000.jpg</td>\n",
       "      <td>[1157.0, 1454.0, 65.0, 31.0]</td>\n",
       "      <td>2.0</td>\n",
       "    </tr>\n",
       "    <tr>\n",
       "      <th>32264</th>\n",
       "      <td>009000.jpg</td>\n",
       "      <td>[583.0, 1118.0, 281.0, 306.0]</td>\n",
       "      <td>1.0</td>\n",
       "    </tr>\n",
       "  </tbody>\n",
       "</table>\n",
       "<p>32265 rows × 3 columns</p>\n",
       "</div>"
      ],
      "text/plain": [
       "        file_name                                        bbox  category_id\n",
       "0      000001.jpg                  [840.0, 0.0, 176.0, 124.0]          4.0\n",
       "1      000001.jpg                [612.0, 306.0, 383.0, 397.0]          2.0\n",
       "2      000001.jpg  [990.92, 551.0, 105.00000000000011, 186.0]          4.0\n",
       "3      000002.jpg                [1000.0, 614.0, 98.0, 178.0]          4.0\n",
       "4      000002.jpg                [605.0, 358.0, 402.0, 409.0]          2.0\n",
       "...           ...                                         ...          ...\n",
       "32260  008999.jpg                 [1220.0, 0.0, 167.0, 236.0]          2.0\n",
       "32261  009000.jpg                [1218.0, 40.0, 169.0, 254.0]          2.0\n",
       "32262  009000.jpg                [320.0, 631.0, 527.0, 218.0]          1.0\n",
       "32263  009000.jpg                [1157.0, 1454.0, 65.0, 31.0]          2.0\n",
       "32264  009000.jpg               [583.0, 1118.0, 281.0, 306.0]          1.0\n",
       "\n",
       "[32265 rows x 3 columns]"
      ]
     },
     "execution_count": 5,
     "metadata": {},
     "output_type": "execute_result"
    }
   ],
   "source": [
    "train_df = pd.read_csv('/kaggle/input/waste-detection/train.csv')\n",
    "train_df"
   ]
  },
  {
   "cell_type": "code",
   "execution_count": 6,
   "metadata": {
    "execution": {
     "iopub.execute_input": "2024-12-06T19:41:45.744512Z",
     "iopub.status.busy": "2024-12-06T19:41:45.744135Z",
     "iopub.status.idle": "2024-12-06T19:41:45.779890Z",
     "shell.execute_reply": "2024-12-06T19:41:45.778520Z",
     "shell.execute_reply.started": "2024-12-06T19:41:45.744470Z"
    },
    "trusted": true
   },
   "outputs": [
    {
     "name": "stdout",
     "output_type": "stream",
     "text": [
      "<class 'pandas.core.frame.DataFrame'>\n",
      "RangeIndex: 32265 entries, 0 to 32264\n",
      "Data columns (total 3 columns):\n",
      " #   Column       Non-Null Count  Dtype  \n",
      "---  ------       --------------  -----  \n",
      " 0   file_name    32265 non-null  object \n",
      " 1   bbox         32148 non-null  object \n",
      " 2   category_id  32148 non-null  float64\n",
      "dtypes: float64(1), object(2)\n",
      "memory usage: 756.3+ KB\n"
     ]
    }
   ],
   "source": [
    "train_df.info()"
   ]
  },
  {
   "cell_type": "code",
   "execution_count": 7,
   "metadata": {
    "execution": {
     "iopub.execute_input": "2024-12-06T19:41:45.781840Z",
     "iopub.status.busy": "2024-12-06T19:41:45.781359Z",
     "iopub.status.idle": "2024-12-06T19:41:45.795730Z",
     "shell.execute_reply": "2024-12-06T19:41:45.794362Z",
     "shell.execute_reply.started": "2024-12-06T19:41:45.781801Z"
    },
    "trusted": true
   },
   "outputs": [
    {
     "data": {
      "text/plain": [
       "file_name        0\n",
       "bbox           117\n",
       "category_id    117\n",
       "dtype: int64"
      ]
     },
     "execution_count": 7,
     "metadata": {},
     "output_type": "execute_result"
    }
   ],
   "source": [
    "train_df.isnull().sum()"
   ]
  },
  {
   "cell_type": "code",
   "execution_count": 8,
   "metadata": {
    "execution": {
     "iopub.execute_input": "2024-12-06T19:41:45.798436Z",
     "iopub.status.busy": "2024-12-06T19:41:45.797407Z",
     "iopub.status.idle": "2024-12-06T19:41:45.814848Z",
     "shell.execute_reply": "2024-12-06T19:41:45.813525Z",
     "shell.execute_reply.started": "2024-12-06T19:41:45.798396Z"
    },
    "trusted": true
   },
   "outputs": [],
   "source": [
    "train_df=train_df.dropna()"
   ]
  },
  {
   "cell_type": "code",
   "execution_count": 9,
   "metadata": {
    "execution": {
     "iopub.execute_input": "2024-12-06T19:41:45.816755Z",
     "iopub.status.busy": "2024-12-06T19:41:45.816253Z",
     "iopub.status.idle": "2024-12-06T19:41:45.837317Z",
     "shell.execute_reply": "2024-12-06T19:41:45.836045Z",
     "shell.execute_reply.started": "2024-12-06T19:41:45.816715Z"
    },
    "trusted": true
   },
   "outputs": [
    {
     "data": {
      "text/html": [
       "<div>\n",
       "<style scoped>\n",
       "    .dataframe tbody tr th:only-of-type {\n",
       "        vertical-align: middle;\n",
       "    }\n",
       "\n",
       "    .dataframe tbody tr th {\n",
       "        vertical-align: top;\n",
       "    }\n",
       "\n",
       "    .dataframe thead th {\n",
       "        text-align: right;\n",
       "    }\n",
       "</style>\n",
       "<table border=\"1\" class=\"dataframe\">\n",
       "  <thead>\n",
       "    <tr style=\"text-align: right;\">\n",
       "      <th></th>\n",
       "      <th>category_id</th>\n",
       "    </tr>\n",
       "  </thead>\n",
       "  <tbody>\n",
       "    <tr>\n",
       "      <th>count</th>\n",
       "      <td>32148.000000</td>\n",
       "    </tr>\n",
       "    <tr>\n",
       "      <th>mean</th>\n",
       "      <td>6.369728</td>\n",
       "    </tr>\n",
       "    <tr>\n",
       "      <th>std</th>\n",
       "      <td>4.881510</td>\n",
       "    </tr>\n",
       "    <tr>\n",
       "      <th>min</th>\n",
       "      <td>1.000000</td>\n",
       "    </tr>\n",
       "    <tr>\n",
       "      <th>25%</th>\n",
       "      <td>2.000000</td>\n",
       "    </tr>\n",
       "    <tr>\n",
       "      <th>50%</th>\n",
       "      <td>4.000000</td>\n",
       "    </tr>\n",
       "    <tr>\n",
       "      <th>75%</th>\n",
       "      <td>11.000000</td>\n",
       "    </tr>\n",
       "    <tr>\n",
       "      <th>max</th>\n",
       "      <td>15.000000</td>\n",
       "    </tr>\n",
       "  </tbody>\n",
       "</table>\n",
       "</div>"
      ],
      "text/plain": [
       "        category_id\n",
       "count  32148.000000\n",
       "mean       6.369728\n",
       "std        4.881510\n",
       "min        1.000000\n",
       "25%        2.000000\n",
       "50%        4.000000\n",
       "75%       11.000000\n",
       "max       15.000000"
      ]
     },
     "execution_count": 9,
     "metadata": {},
     "output_type": "execute_result"
    }
   ],
   "source": [
    "train_df.describe()"
   ]
  },
  {
   "cell_type": "code",
   "execution_count": 10,
   "metadata": {
    "execution": {
     "iopub.execute_input": "2024-12-06T19:41:45.842370Z",
     "iopub.status.busy": "2024-12-06T19:41:45.841283Z",
     "iopub.status.idle": "2024-12-06T19:41:45.847148Z",
     "shell.execute_reply": "2024-12-06T19:41:45.846022Z",
     "shell.execute_reply.started": "2024-12-06T19:41:45.842332Z"
    },
    "trusted": true
   },
   "outputs": [],
   "source": [
    "def bbox_to_yolo(x1, y1, w, h): ## coco_to_yolo\n",
    "    return [((2*x1 + w)/(2*IMAGE_W)) , ((2*y1 + h)/(2*IMAGE_H)), w/IMAGE_W, h/IMAGE_H]"
   ]
  },
  {
   "cell_type": "code",
   "execution_count": 11,
   "metadata": {
    "execution": {
     "iopub.execute_input": "2024-12-06T19:41:45.849486Z",
     "iopub.status.busy": "2024-12-06T19:41:45.848332Z",
     "iopub.status.idle": "2024-12-06T19:41:46.400578Z",
     "shell.execute_reply": "2024-12-06T19:41:46.399537Z",
     "shell.execute_reply.started": "2024-12-06T19:41:45.849381Z"
    },
    "trusted": true
   },
   "outputs": [
    {
     "name": "stdout",
     "output_type": "stream",
     "text": [
      "0                        [840.0, 0.0, 176.0, 124.0]\n",
      "1                      [612.0, 306.0, 383.0, 397.0]\n",
      "2        [990.92, 551.0, 105.00000000000011, 186.0]\n",
      "3                      [1000.0, 614.0, 98.0, 178.0]\n",
      "4                      [605.0, 358.0, 402.0, 409.0]\n",
      "                            ...                    \n",
      "32260                   [1220.0, 0.0, 167.0, 236.0]\n",
      "32261                  [1218.0, 40.0, 169.0, 254.0]\n",
      "32262                  [320.0, 631.0, 527.0, 218.0]\n",
      "32263                  [1157.0, 1454.0, 65.0, 31.0]\n",
      "32264                 [583.0, 1118.0, 281.0, 306.0]\n",
      "Name: bbox, Length: 32148, dtype: object\n"
     ]
    },
    {
     "data": {
      "text/plain": [
       "bbox\n",
       "<class 'list'>    32148\n",
       "Name: count, dtype: int64"
      ]
     },
     "execution_count": 11,
     "metadata": {},
     "output_type": "execute_result"
    }
   ],
   "source": [
    "train_df.loc[:, 'bbox'] = train_df.bbox.apply(eval)\n",
    "print(train_df['bbox'])\n",
    "train_df['bbox'].apply(type).value_counts()"
   ]
  },
  {
   "cell_type": "code",
   "execution_count": 12,
   "metadata": {
    "execution": {
     "iopub.execute_input": "2024-12-06T19:41:46.402403Z",
     "iopub.status.busy": "2024-12-06T19:41:46.401945Z",
     "iopub.status.idle": "2024-12-06T19:41:46.424272Z",
     "shell.execute_reply": "2024-12-06T19:41:46.423201Z",
     "shell.execute_reply.started": "2024-12-06T19:41:46.402353Z"
    },
    "trusted": true
   },
   "outputs": [
    {
     "data": {
      "text/plain": [
       "0        4\n",
       "1        2\n",
       "2        4\n",
       "3        4\n",
       "4        2\n",
       "        ..\n",
       "32260    2\n",
       "32261    2\n",
       "32262    1\n",
       "32263    2\n",
       "32264    1\n",
       "Name: category_id, Length: 32148, dtype: Int32"
      ]
     },
     "execution_count": 12,
     "metadata": {},
     "output_type": "execute_result"
    }
   ],
   "source": [
    "train_df = train_df.astype({'category_id': 'Int32'})\n",
    "train_df['category_id']"
   ]
  },
  {
   "cell_type": "code",
   "execution_count": 13,
   "metadata": {
    "execution": {
     "iopub.execute_input": "2024-12-06T19:41:46.426098Z",
     "iopub.status.busy": "2024-12-06T19:41:46.425748Z",
     "iopub.status.idle": "2024-12-06T19:41:46.629472Z",
     "shell.execute_reply": "2024-12-06T19:41:46.628464Z",
     "shell.execute_reply.started": "2024-12-06T19:41:46.426061Z"
    },
    "trusted": true
   },
   "outputs": [
    {
     "data": {
      "text/html": [
       "<div>\n",
       "<style scoped>\n",
       "    .dataframe tbody tr th:only-of-type {\n",
       "        vertical-align: middle;\n",
       "    }\n",
       "\n",
       "    .dataframe tbody tr th {\n",
       "        vertical-align: top;\n",
       "    }\n",
       "\n",
       "    .dataframe thead th {\n",
       "        text-align: right;\n",
       "    }\n",
       "</style>\n",
       "<table border=\"1\" class=\"dataframe\">\n",
       "  <thead>\n",
       "    <tr style=\"text-align: right;\">\n",
       "      <th></th>\n",
       "      <th>file_name</th>\n",
       "      <th>bbox</th>\n",
       "      <th>category_id</th>\n",
       "      <th>yolo</th>\n",
       "      <th>yaml</th>\n",
       "    </tr>\n",
       "  </thead>\n",
       "  <tbody>\n",
       "    <tr>\n",
       "      <th>0</th>\n",
       "      <td>000001.jpg</td>\n",
       "      <td>[840.0, 0.0, 176.0, 124.0]</td>\n",
       "      <td>4</td>\n",
       "      <td>[0.453125, 0.04172274562584118, 0.0859375, 0.0...</td>\n",
       "      <td>3 0.453125 0.04172274562584118 0.0859375 0.083...</td>\n",
       "    </tr>\n",
       "    <tr>\n",
       "      <th>1</th>\n",
       "      <td>000001.jpg</td>\n",
       "      <td>[612.0, 306.0, 383.0, 397.0]</td>\n",
       "      <td>2</td>\n",
       "      <td>[0.392333984375, 0.3395020188425303, 0.1870117...</td>\n",
       "      <td>1 0.392333984375 0.3395020188425303 0.18701171...</td>\n",
       "    </tr>\n",
       "    <tr>\n",
       "      <th>2</th>\n",
       "      <td>000001.jpg</td>\n",
       "      <td>[990.92, 551.0, 105.00000000000011, 186.0]</td>\n",
       "      <td>4</td>\n",
       "      <td>[0.509482421875, 0.43337819650067294, 0.051269...</td>\n",
       "      <td>3 0.509482421875 0.43337819650067294 0.0512695...</td>\n",
       "    </tr>\n",
       "    <tr>\n",
       "      <th>3</th>\n",
       "      <td>000002.jpg</td>\n",
       "      <td>[1000.0, 614.0, 98.0, 178.0]</td>\n",
       "      <td>4</td>\n",
       "      <td>[0.51220703125, 0.4730820995962315, 0.04785156...</td>\n",
       "      <td>3 0.51220703125 0.4730820995962315 0.047851562...</td>\n",
       "    </tr>\n",
       "    <tr>\n",
       "      <th>4</th>\n",
       "      <td>000002.jpg</td>\n",
       "      <td>[605.0, 358.0, 402.0, 409.0]</td>\n",
       "      <td>2</td>\n",
       "      <td>[0.3935546875, 0.3785329744279946, 0.196289062...</td>\n",
       "      <td>1 0.3935546875 0.3785329744279946 0.1962890625...</td>\n",
       "    </tr>\n",
       "    <tr>\n",
       "      <th>...</th>\n",
       "      <td>...</td>\n",
       "      <td>...</td>\n",
       "      <td>...</td>\n",
       "      <td>...</td>\n",
       "      <td>...</td>\n",
       "    </tr>\n",
       "    <tr>\n",
       "      <th>32260</th>\n",
       "      <td>008999.jpg</td>\n",
       "      <td>[1220.0, 0.0, 167.0, 236.0]</td>\n",
       "      <td>2</td>\n",
       "      <td>[0.636474609375, 0.07940780619111709, 0.081542...</td>\n",
       "      <td>1 0.636474609375 0.07940780619111709 0.0815429...</td>\n",
       "    </tr>\n",
       "    <tr>\n",
       "      <th>32261</th>\n",
       "      <td>009000.jpg</td>\n",
       "      <td>[1218.0, 40.0, 169.0, 254.0]</td>\n",
       "      <td>2</td>\n",
       "      <td>[0.635986328125, 0.11238223418573351, 0.082519...</td>\n",
       "      <td>1 0.635986328125 0.11238223418573351 0.0825195...</td>\n",
       "    </tr>\n",
       "    <tr>\n",
       "      <th>32262</th>\n",
       "      <td>009000.jpg</td>\n",
       "      <td>[320.0, 631.0, 527.0, 218.0]</td>\n",
       "      <td>1</td>\n",
       "      <td>[0.284912109375, 0.4979811574697174, 0.2573242...</td>\n",
       "      <td>0 0.284912109375 0.4979811574697174 0.25732421...</td>\n",
       "    </tr>\n",
       "    <tr>\n",
       "      <th>32263</th>\n",
       "      <td>009000.jpg</td>\n",
       "      <td>[1157.0, 1454.0, 65.0, 31.0]</td>\n",
       "      <td>2</td>\n",
       "      <td>[0.580810546875, 0.9888963660834454, 0.0317382...</td>\n",
       "      <td>1 0.580810546875 0.9888963660834454 0.03173828...</td>\n",
       "    </tr>\n",
       "    <tr>\n",
       "      <th>32264</th>\n",
       "      <td>009000.jpg</td>\n",
       "      <td>[583.0, 1118.0, 281.0, 306.0]</td>\n",
       "      <td>1</td>\n",
       "      <td>[0.353271484375, 0.8553162853297442, 0.1372070...</td>\n",
       "      <td>0 0.353271484375 0.8553162853297442 0.13720703...</td>\n",
       "    </tr>\n",
       "  </tbody>\n",
       "</table>\n",
       "<p>32148 rows × 5 columns</p>\n",
       "</div>"
      ],
      "text/plain": [
       "        file_name                                        bbox  category_id  \\\n",
       "0      000001.jpg                  [840.0, 0.0, 176.0, 124.0]            4   \n",
       "1      000001.jpg                [612.0, 306.0, 383.0, 397.0]            2   \n",
       "2      000001.jpg  [990.92, 551.0, 105.00000000000011, 186.0]            4   \n",
       "3      000002.jpg                [1000.0, 614.0, 98.0, 178.0]            4   \n",
       "4      000002.jpg                [605.0, 358.0, 402.0, 409.0]            2   \n",
       "...           ...                                         ...          ...   \n",
       "32260  008999.jpg                 [1220.0, 0.0, 167.0, 236.0]            2   \n",
       "32261  009000.jpg                [1218.0, 40.0, 169.0, 254.0]            2   \n",
       "32262  009000.jpg                [320.0, 631.0, 527.0, 218.0]            1   \n",
       "32263  009000.jpg                [1157.0, 1454.0, 65.0, 31.0]            2   \n",
       "32264  009000.jpg               [583.0, 1118.0, 281.0, 306.0]            1   \n",
       "\n",
       "                                                    yolo  \\\n",
       "0      [0.453125, 0.04172274562584118, 0.0859375, 0.0...   \n",
       "1      [0.392333984375, 0.3395020188425303, 0.1870117...   \n",
       "2      [0.509482421875, 0.43337819650067294, 0.051269...   \n",
       "3      [0.51220703125, 0.4730820995962315, 0.04785156...   \n",
       "4      [0.3935546875, 0.3785329744279946, 0.196289062...   \n",
       "...                                                  ...   \n",
       "32260  [0.636474609375, 0.07940780619111709, 0.081542...   \n",
       "32261  [0.635986328125, 0.11238223418573351, 0.082519...   \n",
       "32262  [0.284912109375, 0.4979811574697174, 0.2573242...   \n",
       "32263  [0.580810546875, 0.9888963660834454, 0.0317382...   \n",
       "32264  [0.353271484375, 0.8553162853297442, 0.1372070...   \n",
       "\n",
       "                                                    yaml  \n",
       "0      3 0.453125 0.04172274562584118 0.0859375 0.083...  \n",
       "1      1 0.392333984375 0.3395020188425303 0.18701171...  \n",
       "2      3 0.509482421875 0.43337819650067294 0.0512695...  \n",
       "3      3 0.51220703125 0.4730820995962315 0.047851562...  \n",
       "4      1 0.3935546875 0.3785329744279946 0.1962890625...  \n",
       "...                                                  ...  \n",
       "32260  1 0.636474609375 0.07940780619111709 0.0815429...  \n",
       "32261  1 0.635986328125 0.11238223418573351 0.0825195...  \n",
       "32262  0 0.284912109375 0.4979811574697174 0.25732421...  \n",
       "32263  1 0.580810546875 0.9888963660834454 0.03173828...  \n",
       "32264  0 0.353271484375 0.8553162853297442 0.13720703...  \n",
       "\n",
       "[32148 rows x 5 columns]"
      ]
     },
     "execution_count": 13,
     "metadata": {},
     "output_type": "execute_result"
    }
   ],
   "source": [
    "train_df.loc[:, 'yolo'] = train_df.bbox.map(lambda x: bbox_to_yolo(*x))\n",
    "train_df['yaml'] = train_df.category_id.map(lambda x: str(x-1)) + ' ' + train_df.yolo.map(lambda y: ' '.join([str(x) for x in y]))\n",
    "\n",
    "train_df"
   ]
  },
  {
   "cell_type": "code",
   "execution_count": 14,
   "metadata": {
    "execution": {
     "iopub.execute_input": "2024-12-06T19:41:46.631236Z",
     "iopub.status.busy": "2024-12-06T19:41:46.630833Z",
     "iopub.status.idle": "2024-12-06T19:41:46.985030Z",
     "shell.execute_reply": "2024-12-06T19:41:46.983716Z",
     "shell.execute_reply.started": "2024-12-06T19:41:46.631191Z"
    },
    "trusted": true
   },
   "outputs": [],
   "source": [
    "train_df.to_csv('train_df.csv')"
   ]
  },
  {
   "cell_type": "markdown",
   "metadata": {},
   "source": [
    "**Выводы:**\n",
    "\n",
    "Отброшены изображения, для которых нет разметки.\n",
    "\n",
    "YOLO использует нормализованные координаты $X_cY_cWH$ (c - center), в датасете $X_lY_tWH$ (left top), переведены в нужный формат. Важно при предсказании учесть необходимость обратного перевода.\n",
    "\n",
    "Для обучения файла создан столбец где сохранены YOLO категория и координаты в виде строки. Сохранена таблица для дальнейшего использования. "
   ]
  },
  {
   "cell_type": "markdown",
   "metadata": {},
   "source": [
    "## Images"
   ]
  },
  {
   "cell_type": "code",
   "execution_count": 15,
   "metadata": {
    "execution": {
     "iopub.execute_input": "2024-12-06T19:41:46.986399Z",
     "iopub.status.busy": "2024-12-06T19:41:46.986099Z",
     "iopub.status.idle": "2024-12-06T19:41:47.129701Z",
     "shell.execute_reply": "2024-12-06T19:41:47.128399Z",
     "shell.execute_reply.started": "2024-12-06T19:41:46.986369Z"
    },
    "trusted": true
   },
   "outputs": [
    {
     "data": {
      "text/plain": [
       "['000001.jpg',\n",
       " '000002.jpg',\n",
       " '000003.jpg',\n",
       " '000004.jpg',\n",
       " '000005.jpg',\n",
       " '000006.jpg',\n",
       " '000007.jpg',\n",
       " '000008.jpg',\n",
       " '000009.jpg',\n",
       " '000010.jpg']"
      ]
     },
     "execution_count": 15,
     "metadata": {},
     "output_type": "execute_result"
    }
   ],
   "source": [
    "images_complete = sorted(os.listdir('/kaggle/input/waste-detection/images/'))\n",
    "##images_complete = images_complete[:10] #demo\n",
    "images_complete[:10] ##"
   ]
  },
  {
   "cell_type": "code",
   "execution_count": null,
   "metadata": {
    "execution": {
     "iopub.execute_input": "2024-12-06T19:41:47.131422Z",
     "iopub.status.busy": "2024-12-06T19:41:47.131002Z"
    },
    "trusted": true
   },
   "outputs": [],
   "source": [
    "images_input = '/kaggle/input/waste-detection/images/'\n",
    "\n",
    "images_output = '/kaggle/working/images/'\n",
    "os.makedirs(images_output, exist_ok=True) \n",
    "\n",
    "for image in images_complete:\n",
    "    copyfile(join(images_input, image), join(images_output, image))"
   ]
  },
  {
   "cell_type": "markdown",
   "metadata": {
    "execution": {
     "iopub.execute_input": "2024-11-30T14:06:25.007656Z",
     "iopub.status.busy": "2024-11-30T14:06:25.007056Z",
     "iopub.status.idle": "2024-11-30T14:06:25.013547Z",
     "shell.execute_reply": "2024-11-30T14:06:25.012227Z",
     "shell.execute_reply.started": "2024-11-30T14:06:25.007609Z"
    }
   },
   "source": [
    "## Labels"
   ]
  },
  {
   "cell_type": "code",
   "execution_count": null,
   "metadata": {
    "trusted": true
   },
   "outputs": [],
   "source": [
    "labels_path = '/kaggle/working/labels/'\n",
    "os.makedirs(labels_path, exist_ok=True) \n",
    "\n",
    "for image in images_complete:\n",
    "    with open(join(labels_path, os.path.splitext(image)[0]+'.txt'), 'w') as file:\n",
    "        file.write('\\n'.join(list(train_df.query('file_name == @image').yaml)))"
   ]
  },
  {
   "cell_type": "markdown",
   "metadata": {},
   "source": [
    "## Заключение\n",
    "\n",
    "Файлы сохранены в папки `images` и `labels`. Каждому изображению соответствует файл аннотации содержащий все объекты в нём в формате YOLO. Это необходимо для правильной работы модели при обучении. \n",
    "\n",
    "К сожалению YOLO11 не имеет очевидной возможности работать с аннотациями и изображениями из разных источников, иначе можно было бы использовать изображения напрямую из соревнования не копируя их.\n",
    "\n",
    "Дополнительно сохранены словари классов и расширенный датафрейм обучения для единообразия между тетрадями. "
   ]
  }
 ],
 "metadata": {
  "kaggle": {
   "accelerator": "none",
   "dataSources": [
    {
     "databundleVersionId": 9967287,
     "sourceId": 86681,
     "sourceType": "competition"
    },
    {
     "modelId": 141350,
     "modelInstanceId": 118113,
     "sourceId": 139474,
     "sourceType": "modelInstanceVersion"
    }
   ],
   "dockerImageVersionId": 30787,
   "isGpuEnabled": false,
   "isInternetEnabled": true,
   "language": "python",
   "sourceType": "notebook"
  },
  "kernelspec": {
   "display_name": "Python 3",
   "language": "python",
   "name": "python3"
  },
  "language_info": {
   "codemirror_mode": {
    "name": "ipython",
    "version": 3
   },
   "file_extension": ".py",
   "mimetype": "text/x-python",
   "name": "python",
   "nbconvert_exporter": "python",
   "pygments_lexer": "ipython3",
   "version": "3.10.14"
  }
 },
 "nbformat": 4,
 "nbformat_minor": 4
}
